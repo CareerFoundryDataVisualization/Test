{
 "cells": [
  {
   "cell_type": "markdown",
   "id": "58f874cc-292c-4081-9a36-34024b65cb67",
   "metadata": {},
   "source": [
    "### Test script "
   ]
  },
  {
   "cell_type": "code",
   "execution_count": null,
   "id": "299e9aed-371d-46d4-a5ef-0ae1174f0de0",
   "metadata": {},
   "outputs": [],
   "source": []
  }
 ],
 "metadata": {
  "kernelspec": {
   "display_name": "Python 3 (ipykernel)",
   "language": "python",
   "name": "python3"
  },
  "language_info": {
   "codemirror_mode": {
    "name": "ipython",
    "version": 3
   },
   "file_extension": ".py",
   "mimetype": "text/x-python",
   "name": "python",
   "nbconvert_exporter": "python",
   "pygments_lexer": "ipython3",
   "version": "3.9.12"
  }
 },
 "nbformat": 4,
 "nbformat_minor": 5
}
